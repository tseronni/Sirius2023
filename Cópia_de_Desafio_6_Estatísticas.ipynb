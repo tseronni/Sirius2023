{
  "cells": [
    {
      "cell_type": "markdown",
      "metadata": {
        "id": "view-in-github",
        "colab_type": "text"
      },
      "source": [
        "<a href=\"https://colab.research.google.com/github/tseronni/Sirius2023/blob/main/C%C3%B3pia_de_Desafio_6_Estat%C3%ADsticas.ipynb\" target=\"_parent\"><img src=\"https://colab.research.google.com/assets/colab-badge.svg\" alt=\"Open In Colab\"/></a>"
      ]
    },
    {
      "cell_type": "markdown",
      "id": "7e4f5ae4",
      "metadata": {
        "id": "7e4f5ae4"
      },
      "source": [
        "<div>\n",
        "    <p style=\"float: right;\"><img src=\"https://media.swipepages.com/2021/2/sirius-logo-principal-tag-1-300.png\" height=\"80px\"border=\"1px\"></p>\n",
        "    \n",
        "</div>\n",
        "<h1>Nano Desafio 6 </h1>\n",
        "<h2>Pandas - estatísticas </h2>\n",
        "\n",
        "Aluno: \n",
        "\n",
        "Data:"
      ]
    },
    {
      "cell_type": "markdown",
      "id": "48c084d7",
      "metadata": {
        "id": "48c084d7"
      },
      "source": [
        "##### Introdução"
      ]
    },
    {
      "cell_type": "markdown",
      "id": "025060d1",
      "metadata": {
        "id": "025060d1"
      },
      "source": [
        "Já conhecemos o pandas e um pouco do seu poder para analisar dados! Agora vamos fazer alguns calculos estatísticos usando essa ferramenta já no ritmo de despedida e também como uma  prévia do que esta por vir. Afinal você está crescendo e sua jornada de Introdução ao Python está chegando ao fim!!! \n",
        "\n",
        "A Estatística já está batendo a porta e dando boas vindas!!"
      ]
    },
    {
      "cell_type": "markdown",
      "id": "92351feb",
      "metadata": {
        "id": "92351feb"
      },
      "source": [
        "##### Estatísticas\n",
        "Estatísticas resumo, para que servem? Adivinhe? - elas \"resumem\" muitos números!!!. Por exemplo, média, mediana, mínimo, máximo e desvio padrão são estatísticas resumidas. O cálculo de estatísticas resumidas permitem que você tenha uma noção melhor de seus dados, mesmo que você tenha milhares ou milhões!!"
      ]
    },
    {
      "cell_type": "markdown",
      "id": "564c22c9",
      "metadata": {
        "id": "564c22c9"
      },
      "source": [
        "##### O conjunto de dados\n",
        "A Walt Disney Studios já produziu mais de 600 filmes desde seu filme de estreia, Branca de Neve e os Sete Anões, em 1937. Vamos, explorar um conjunto de dados de filmes da Disney !! Esses dados foram compilados por <a href=\"https://data.world/kgarrett/disney-character-success-00-16\">Kelly Garrett</a>. Os dados contêm 579 filmes da Disney com seis características: título do filme, data de lançamento, gênero, classificação MPAA, bilheteria bruta  e bilheteria ajustada pela inflação. </p>"
      ]
    },
    {
      "cell_type": "markdown",
      "id": "af2ea7e4",
      "metadata": {
        "id": "af2ea7e4"
      },
      "source": []
    },
    {
      "cell_type": "markdown",
      "id": "51f2b192",
      "metadata": {
        "id": "51f2b192"
      },
      "source": [
        "1 -Importe o  [dataset disney_movies_total_gross.csv](https://drive.google.com/file/d/1WtNcv-0XV5j954UNDkf2GW60vZHpqpzl/view?usp=sharing) e salvar com o nome dados."
      ]
    },
    {
      "cell_type": "code",
      "execution_count": null,
      "id": "2750f558",
      "metadata": {
        "id": "2750f558",
        "outputId": "5a320a86-567f-468e-e127-91bc233eefbe",
        "colab": {
          "base_uri": "https://localhost:8080/"
        }
      },
      "outputs": [
        {
          "output_type": "stream",
          "name": "stdout",
          "text": [
            "Drive already mounted at /content/drive; to attempt to forcibly remount, call drive.mount(\"/content/drive\", force_remount=True).\n"
          ]
        }
      ],
      "source": [
        "import pandas as pd\n",
        "\n",
        "from google.colab import drive\n",
        "drive.mount('/content/drive')\n",
        "\n",
        "dados = pd.read_csv('/content/drive/MyDrive/sirius/exercicios/arquivos/disney_movies_total_gross.csv', parse_dates =['release_date'])"
      ]
    },
    {
      "cell_type": "markdown",
      "id": "97272379",
      "metadata": {
        "id": "97272379"
      },
      "source": []
    },
    {
      "cell_type": "code",
      "execution_count": null,
      "id": "748b642e",
      "metadata": {
        "id": "748b642e"
      },
      "outputs": [],
      "source": []
    },
    {
      "cell_type": "markdown",
      "id": "b230e93c",
      "metadata": {
        "id": "b230e93c"
      },
      "source": [
        "2 -  Imprima as primeiras linhas desse dataset"
      ]
    },
    {
      "cell_type": "code",
      "execution_count": null,
      "id": "59ce51cc",
      "metadata": {
        "id": "59ce51cc",
        "outputId": "39e38e74-3055-4f54-8511-d84aecaf56a9",
        "colab": {
          "base_uri": "https://localhost:8080/",
          "height": 268
        }
      },
      "outputs": [
        {
          "output_type": "execute_result",
          "data": {
            "text/plain": [
              "                       movie_title release_date      genre mpaa_rating  \\\n",
              "0  Snow White and the Seven Dwarfs   1937-12-21    Musical           G   \n",
              "1                        Pinocchio   1940-02-09  Adventure           G   \n",
              "2                         Fantasia   1940-11-13    Musical           G   \n",
              "3                Song of the South   1946-11-12  Adventure           G   \n",
              "4                       Cinderella   1950-02-15      Drama           G   \n",
              "\n",
              "   total_gross  inflation_adjusted_gross  \n",
              "0    184925485                5228953251  \n",
              "1     84300000                2188229052  \n",
              "2     83320000                2187090808  \n",
              "3     65000000                1078510579  \n",
              "4     85000000                 920608730  "
            ],
            "text/html": [
              "\n",
              "  <div id=\"df-c389392d-7e83-40cf-935a-a82bbc7c267b\">\n",
              "    <div class=\"colab-df-container\">\n",
              "      <div>\n",
              "<style scoped>\n",
              "    .dataframe tbody tr th:only-of-type {\n",
              "        vertical-align: middle;\n",
              "    }\n",
              "\n",
              "    .dataframe tbody tr th {\n",
              "        vertical-align: top;\n",
              "    }\n",
              "\n",
              "    .dataframe thead th {\n",
              "        text-align: right;\n",
              "    }\n",
              "</style>\n",
              "<table border=\"1\" class=\"dataframe\">\n",
              "  <thead>\n",
              "    <tr style=\"text-align: right;\">\n",
              "      <th></th>\n",
              "      <th>movie_title</th>\n",
              "      <th>release_date</th>\n",
              "      <th>genre</th>\n",
              "      <th>mpaa_rating</th>\n",
              "      <th>total_gross</th>\n",
              "      <th>inflation_adjusted_gross</th>\n",
              "    </tr>\n",
              "  </thead>\n",
              "  <tbody>\n",
              "    <tr>\n",
              "      <th>0</th>\n",
              "      <td>Snow White and the Seven Dwarfs</td>\n",
              "      <td>1937-12-21</td>\n",
              "      <td>Musical</td>\n",
              "      <td>G</td>\n",
              "      <td>184925485</td>\n",
              "      <td>5228953251</td>\n",
              "    </tr>\n",
              "    <tr>\n",
              "      <th>1</th>\n",
              "      <td>Pinocchio</td>\n",
              "      <td>1940-02-09</td>\n",
              "      <td>Adventure</td>\n",
              "      <td>G</td>\n",
              "      <td>84300000</td>\n",
              "      <td>2188229052</td>\n",
              "    </tr>\n",
              "    <tr>\n",
              "      <th>2</th>\n",
              "      <td>Fantasia</td>\n",
              "      <td>1940-11-13</td>\n",
              "      <td>Musical</td>\n",
              "      <td>G</td>\n",
              "      <td>83320000</td>\n",
              "      <td>2187090808</td>\n",
              "    </tr>\n",
              "    <tr>\n",
              "      <th>3</th>\n",
              "      <td>Song of the South</td>\n",
              "      <td>1946-11-12</td>\n",
              "      <td>Adventure</td>\n",
              "      <td>G</td>\n",
              "      <td>65000000</td>\n",
              "      <td>1078510579</td>\n",
              "    </tr>\n",
              "    <tr>\n",
              "      <th>4</th>\n",
              "      <td>Cinderella</td>\n",
              "      <td>1950-02-15</td>\n",
              "      <td>Drama</td>\n",
              "      <td>G</td>\n",
              "      <td>85000000</td>\n",
              "      <td>920608730</td>\n",
              "    </tr>\n",
              "  </tbody>\n",
              "</table>\n",
              "</div>\n",
              "      <button class=\"colab-df-convert\" onclick=\"convertToInteractive('df-c389392d-7e83-40cf-935a-a82bbc7c267b')\"\n",
              "              title=\"Convert this dataframe to an interactive table.\"\n",
              "              style=\"display:none;\">\n",
              "        \n",
              "  <svg xmlns=\"http://www.w3.org/2000/svg\" height=\"24px\"viewBox=\"0 0 24 24\"\n",
              "       width=\"24px\">\n",
              "    <path d=\"M0 0h24v24H0V0z\" fill=\"none\"/>\n",
              "    <path d=\"M18.56 5.44l.94 2.06.94-2.06 2.06-.94-2.06-.94-.94-2.06-.94 2.06-2.06.94zm-11 1L8.5 8.5l.94-2.06 2.06-.94-2.06-.94L8.5 2.5l-.94 2.06-2.06.94zm10 10l.94 2.06.94-2.06 2.06-.94-2.06-.94-.94-2.06-.94 2.06-2.06.94z\"/><path d=\"M17.41 7.96l-1.37-1.37c-.4-.4-.92-.59-1.43-.59-.52 0-1.04.2-1.43.59L10.3 9.45l-7.72 7.72c-.78.78-.78 2.05 0 2.83L4 21.41c.39.39.9.59 1.41.59.51 0 1.02-.2 1.41-.59l7.78-7.78 2.81-2.81c.8-.78.8-2.07 0-2.86zM5.41 20L4 18.59l7.72-7.72 1.47 1.35L5.41 20z\"/>\n",
              "  </svg>\n",
              "      </button>\n",
              "      \n",
              "  <style>\n",
              "    .colab-df-container {\n",
              "      display:flex;\n",
              "      flex-wrap:wrap;\n",
              "      gap: 12px;\n",
              "    }\n",
              "\n",
              "    .colab-df-convert {\n",
              "      background-color: #E8F0FE;\n",
              "      border: none;\n",
              "      border-radius: 50%;\n",
              "      cursor: pointer;\n",
              "      display: none;\n",
              "      fill: #1967D2;\n",
              "      height: 32px;\n",
              "      padding: 0 0 0 0;\n",
              "      width: 32px;\n",
              "    }\n",
              "\n",
              "    .colab-df-convert:hover {\n",
              "      background-color: #E2EBFA;\n",
              "      box-shadow: 0px 1px 2px rgba(60, 64, 67, 0.3), 0px 1px 3px 1px rgba(60, 64, 67, 0.15);\n",
              "      fill: #174EA6;\n",
              "    }\n",
              "\n",
              "    [theme=dark] .colab-df-convert {\n",
              "      background-color: #3B4455;\n",
              "      fill: #D2E3FC;\n",
              "    }\n",
              "\n",
              "    [theme=dark] .colab-df-convert:hover {\n",
              "      background-color: #434B5C;\n",
              "      box-shadow: 0px 1px 3px 1px rgba(0, 0, 0, 0.15);\n",
              "      filter: drop-shadow(0px 1px 2px rgba(0, 0, 0, 0.3));\n",
              "      fill: #FFFFFF;\n",
              "    }\n",
              "  </style>\n",
              "\n",
              "      <script>\n",
              "        const buttonEl =\n",
              "          document.querySelector('#df-c389392d-7e83-40cf-935a-a82bbc7c267b button.colab-df-convert');\n",
              "        buttonEl.style.display =\n",
              "          google.colab.kernel.accessAllowed ? 'block' : 'none';\n",
              "\n",
              "        async function convertToInteractive(key) {\n",
              "          const element = document.querySelector('#df-c389392d-7e83-40cf-935a-a82bbc7c267b');\n",
              "          const dataTable =\n",
              "            await google.colab.kernel.invokeFunction('convertToInteractive',\n",
              "                                                     [key], {});\n",
              "          if (!dataTable) return;\n",
              "\n",
              "          const docLinkHtml = 'Like what you see? Visit the ' +\n",
              "            '<a target=\"_blank\" href=https://colab.research.google.com/notebooks/data_table.ipynb>data table notebook</a>'\n",
              "            + ' to learn more about interactive tables.';\n",
              "          element.innerHTML = '';\n",
              "          dataTable['output_type'] = 'display_data';\n",
              "          await google.colab.output.renderOutput(dataTable, element);\n",
              "          const docLink = document.createElement('div');\n",
              "          docLink.innerHTML = docLinkHtml;\n",
              "          element.appendChild(docLink);\n",
              "        }\n",
              "      </script>\n",
              "    </div>\n",
              "  </div>\n",
              "  "
            ]
          },
          "metadata": {},
          "execution_count": 4
        }
      ],
      "source": [
        "dados.head()"
      ]
    },
    {
      "cell_type": "markdown",
      "id": "eab3247c",
      "metadata": {
        "id": "eab3247c"
      },
      "source": [
        "Obs.: Motion Picture Association of America (MPAA) - é uma associação que tem por objetivo original garantir a viabilidade da indústria cinematográfica norte-americana. Além disso, a MPA estabeleceu diretrizes para o conteúdo de filmes que resultaram na criação do Código de Produção em 1930. \n",
        "Por exemplo, a classificação de filmes segundo essa associação é:"
      ]
    },
    {
      "cell_type": "markdown",
      "id": "b8ad1e28",
      "metadata": {
        "id": "b8ad1e28"
      },
      "source": [
        "![wikipedia](mpaa_rating.png)\n",
        "\n",
        "fonte:https://pt.wikipedia.org/wiki/Motion_Picture_Association"
      ]
    },
    {
      "cell_type": "markdown",
      "id": "d52ae9ee",
      "metadata": {
        "id": "d52ae9ee"
      },
      "source": [
        "Agora, antes de mais nada vamos renomear as colunas para ficar mais fácil o entendimento?"
      ]
    },
    {
      "cell_type": "markdown",
      "id": "e5e4a2f6",
      "metadata": {
        "id": "e5e4a2f6"
      },
      "source": [
        "['tit_do_filme','dt_lancamento','genero','classificacao_mpaa','bilheteria_bruta','bilheteria_ajustada_inflacao']"
      ]
    },
    {
      "cell_type": "markdown",
      "id": "17fce58e",
      "metadata": {
        "id": "17fce58e"
      },
      "source": [
        "3 - Veja o dataset agora:"
      ]
    },
    {
      "cell_type": "code",
      "execution_count": null,
      "id": "4c510b9c",
      "metadata": {
        "id": "4c510b9c"
      },
      "outputs": [],
      "source": [
        "dados.rename(columns={'movie_title': 'tit_do_filme',\n",
        "                      'release_date': 'dt_lancamento',\n",
        "                      'genre': 'genero',\n",
        "                      'mpaa_rating': 'classificacao_mpaa',\n",
        "                      'total_gross': 'bilheteria_bruta',\n",
        "                      'inflation_adjusted_gross': 'bilheteria_ajustada_inflacao'}, inplace=True)"
      ]
    },
    {
      "cell_type": "markdown",
      "id": "39ddad3f",
      "metadata": {
        "id": "39ddad3f"
      },
      "source": []
    },
    {
      "cell_type": "markdown",
      "id": "dbcc6abc",
      "metadata": {
        "id": "dbcc6abc"
      },
      "source": [
        "4 -Imprima informações básicas sobre o DataFrame"
      ]
    },
    {
      "cell_type": "code",
      "execution_count": null,
      "id": "2947b71b",
      "metadata": {
        "id": "2947b71b",
        "outputId": "cef7d605-8868-4ea6-e51f-ee46dd62f371",
        "colab": {
          "base_uri": "https://localhost:8080/"
        }
      },
      "outputs": [
        {
          "output_type": "stream",
          "name": "stdout",
          "text": [
            "<class 'pandas.core.frame.DataFrame'>\n",
            "RangeIndex: 579 entries, 0 to 578\n",
            "Data columns (total 6 columns):\n",
            " #   Column                        Non-Null Count  Dtype         \n",
            "---  ------                        --------------  -----         \n",
            " 0   tit_do_filme                  579 non-null    object        \n",
            " 1   dt_lancamento                 579 non-null    datetime64[ns]\n",
            " 2   genero                        562 non-null    object        \n",
            " 3   classificacao_mpaa            523 non-null    object        \n",
            " 4   bilheteria_bruta              579 non-null    int64         \n",
            " 5   bilheteria_ajustada_inflacao  579 non-null    int64         \n",
            "dtypes: datetime64[ns](1), int64(2), object(3)\n",
            "memory usage: 27.3+ KB\n"
          ]
        }
      ],
      "source": [
        "dados.info()"
      ]
    },
    {
      "cell_type": "markdown",
      "id": "99cf10a8",
      "metadata": {
        "id": "99cf10a8"
      },
      "source": [
        "5 - Calcule a média da bilheteria ajustada"
      ]
    },
    {
      "cell_type": "code",
      "execution_count": null,
      "id": "911d11c6",
      "metadata": {
        "id": "911d11c6",
        "outputId": "14ac1794-aced-4064-fdc7-804261989e18",
        "colab": {
          "base_uri": "https://localhost:8080/"
        }
      },
      "outputs": [
        {
          "output_type": "execute_result",
          "data": {
            "text/plain": [
              "118762523.31088082"
            ]
          },
          "metadata": {},
          "execution_count": 7
        }
      ],
      "source": [
        "dados.bilheteria_ajustada_inflacao.mean()"
      ]
    },
    {
      "cell_type": "markdown",
      "id": "80f0ce0c",
      "metadata": {
        "id": "80f0ce0c"
      },
      "source": [
        "6 - Calcule a mediana da bilheterias ajustada"
      ]
    },
    {
      "cell_type": "code",
      "execution_count": null,
      "id": "bdf6342f",
      "metadata": {
        "id": "bdf6342f",
        "outputId": "6341534f-c034-43c8-be29-591a2e3fc978",
        "colab": {
          "base_uri": "https://localhost:8080/"
        }
      },
      "outputs": [
        {
          "output_type": "execute_result",
          "data": {
            "text/plain": [
              "55159783.0"
            ]
          },
          "metadata": {},
          "execution_count": 8
        }
      ],
      "source": [
        "dados.bilheteria_ajustada_inflacao.median()"
      ]
    },
    {
      "cell_type": "markdown",
      "id": "1ddca842",
      "metadata": {
        "id": "1ddca842"
      },
      "source": [
        "7 - Encontre as datas máximas e minimas de lançamentos de filmes nesse dataset"
      ]
    },
    {
      "cell_type": "code",
      "execution_count": null,
      "id": "951ebec7",
      "metadata": {
        "id": "951ebec7",
        "outputId": "0a4a792f-263a-406e-c0b5-61aa05f3380d",
        "colab": {
          "base_uri": "https://localhost:8080/"
        }
      },
      "outputs": [
        {
          "output_type": "stream",
          "name": "stdout",
          "text": [
            "Data máxima: 2016-12-16 00:00:00.\n",
            "Data mínima: 1937-12-21 00:00:00\n"
          ]
        }
      ],
      "source": [
        "print(f'Data máxima: {dados.dt_lancamento.max()}.\\nData mínima: {dados.dt_lancamento.min()}')"
      ]
    },
    {
      "cell_type": "markdown",
      "id": "c2c74ae8",
      "metadata": {
        "id": "c2c74ae8"
      },
      "source": [
        "8 - Qual filme tem maior bilheteria_ajustada_inflacao ?"
      ]
    },
    {
      "cell_type": "code",
      "execution_count": null,
      "id": "840584dd",
      "metadata": {
        "id": "840584dd",
        "outputId": "accc0c22-272e-4e9d-d327-063de91fa5ce",
        "colab": {
          "base_uri": "https://localhost:8080/"
        }
      },
      "outputs": [
        {
          "output_type": "stream",
          "name": "stdout",
          "text": [
            "Filme como maior bilheteria: Snow White and the Seven Dwarfs\n"
          ]
        }
      ],
      "source": [
        "print(f'Filme como maior bilheteria: {dados.tit_do_filme.iloc[dados.bilheteria_ajustada_inflacao.idxmax()]}')"
      ]
    },
    {
      "cell_type": "markdown",
      "id": "e60ba8ea",
      "metadata": {
        "id": "e60ba8ea"
      },
      "source": []
    },
    {
      "cell_type": "code",
      "execution_count": null,
      "id": "d90a31bc",
      "metadata": {
        "id": "d90a31bc"
      },
      "outputs": [],
      "source": []
    },
    {
      "cell_type": "markdown",
      "id": "4eb6a2c1",
      "metadata": {
        "id": "4eb6a2c1"
      },
      "source": [
        "9 - Ordene os dados por dt_lancamento e chame de data_ordenada"
      ]
    },
    {
      "cell_type": "code",
      "execution_count": null,
      "id": "9c8ae3bf",
      "metadata": {
        "id": "9c8ae3bf",
        "outputId": "75cc7dc2-34e4-495b-dee8-7de15611adce",
        "colab": {
          "base_uri": "https://localhost:8080/"
        }
      },
      "outputs": [
        {
          "output_type": "execute_result",
          "data": {
            "text/plain": [
              "0     1937-12-21\n",
              "1     1940-02-09\n",
              "2     1940-11-13\n",
              "3     1946-11-12\n",
              "4     1950-02-15\n",
              "         ...    \n",
              "574   2016-09-02\n",
              "575   2016-09-23\n",
              "576   2016-11-04\n",
              "577   2016-11-23\n",
              "578   2016-12-16\n",
              "Name: data_ordenada, Length: 579, dtype: datetime64[ns]"
            ]
          },
          "metadata": {},
          "execution_count": 11
        }
      ],
      "source": [
        "dados['data_ordenada'] = dados.sort_values(by='dt_lancamento')['dt_lancamento']\n",
        "dados['data_ordenada']"
      ]
    },
    {
      "cell_type": "markdown",
      "id": "83cdf73f",
      "metadata": {
        "id": "83cdf73f"
      },
      "source": [
        "10- Obtenha a soma cumulativa da bilheteria_ajustada_inflacao,adicione ao dataset com o nome de bilheteria_milionaria"
      ]
    },
    {
      "cell_type": "code",
      "execution_count": null,
      "id": "689b7837",
      "metadata": {
        "id": "689b7837"
      },
      "outputs": [],
      "source": [
        "dados['bilheteria_milionaria'] = dados.bilheteria_ajustada_inflacao.cumsum()"
      ]
    },
    {
      "cell_type": "markdown",
      "id": "e0c7ffc8",
      "metadata": {
        "id": "e0c7ffc8"
      },
      "source": [
        "11 - Veja a coluna que você criou"
      ]
    },
    {
      "cell_type": "code",
      "execution_count": null,
      "id": "533171d5",
      "metadata": {
        "id": "533171d5",
        "outputId": "c94fd3cb-36a2-4892-c033-e8da9c924950",
        "colab": {
          "base_uri": "https://localhost:8080/"
        }
      },
      "outputs": [
        {
          "output_type": "stream",
          "name": "stdout",
          "text": [
            "0       5228953251\n",
            "1       7417182303\n",
            "2       9604273111\n",
            "3      10682783690\n",
            "4      11603392420\n",
            "          ...     \n",
            "574    67746527720\n",
            "575    67755402109\n",
            "576    67987935032\n",
            "577    68234017061\n",
            "578    68763500997\n",
            "Name: bilheteria_milionaria, Length: 579, dtype: int64\n"
          ]
        }
      ],
      "source": [
        "print(dados['bilheteria_milionaria'])"
      ]
    },
    {
      "cell_type": "markdown",
      "id": "875fb027",
      "metadata": {
        "id": "875fb027"
      },
      "source": [
        "12 - Selecione os filmes de aventura e atribua a uma variável chamada filmes_aventura"
      ]
    },
    {
      "cell_type": "code",
      "execution_count": null,
      "id": "38bbaae5",
      "metadata": {
        "id": "38bbaae5"
      },
      "outputs": [],
      "source": [
        "filmes_aventura = dados[dados.genero == 'Adventure']['genero']"
      ]
    },
    {
      "cell_type": "markdown",
      "id": "8816a9c3",
      "metadata": {
        "id": "8816a9c3"
      },
      "source": [
        "13 - Veja as primeiras linha desse novo dataset:"
      ]
    },
    {
      "cell_type": "code",
      "execution_count": null,
      "id": "719759d1",
      "metadata": {
        "id": "719759d1",
        "outputId": "8dd70f79-751f-461b-e281-e130a7dac829",
        "colab": {
          "base_uri": "https://localhost:8080/"
        }
      },
      "outputs": [
        {
          "output_type": "stream",
          "name": "stdout",
          "text": [
            "1      Adventure\n",
            "3      Adventure\n",
            "5      Adventure\n",
            "12     Adventure\n",
            "21     Adventure\n",
            "         ...    \n",
            "572    Adventure\n",
            "573    Adventure\n",
            "576    Adventure\n",
            "577    Adventure\n",
            "578    Adventure\n",
            "Name: genero, Length: 129, dtype: object\n"
          ]
        }
      ],
      "source": [
        "print(filmes_aventura)"
      ]
    },
    {
      "cell_type": "markdown",
      "id": "58b724d2",
      "metadata": {
        "id": "58b724d2"
      },
      "source": [
        "14 - Conte o número de filmes por genero e ordene"
      ]
    },
    {
      "cell_type": "code",
      "execution_count": null,
      "id": "9f35f2dd",
      "metadata": {
        "id": "9f35f2dd",
        "outputId": "e0c8054f-5f38-4353-fa41-96e26ed3ba26",
        "colab": {
          "base_uri": "https://localhost:8080/"
        }
      },
      "outputs": [
        {
          "output_type": "stream",
          "name": "stdout",
          "text": [
            "genero\n",
            "Concert/Performance      2\n",
            "Black Comedy             3\n",
            "Horror                   6\n",
            "Western                  7\n",
            "Documentary             16\n",
            "Musical                 16\n",
            "Romantic Comedy         23\n",
            "Thriller/Suspense       24\n",
            "Action                  40\n",
            "Drama                  114\n",
            "Adventure              129\n",
            "Comedy                 182\n",
            "Name: genero, dtype: int64\n"
          ]
        }
      ],
      "source": [
        "print(dados.groupby(by='genero')['genero'].count().sort_values())\n",
        "contagem_por_genero_ordenado = pd.DataFrame(dados.groupby(by='genero')['genero'].count().sort_values())\n",
        "df = contagem_por_genero_ordenado.rename(columns={'genero': 'contagem'})"
      ]
    },
    {
      "cell_type": "markdown",
      "id": "5acb96d9",
      "metadata": {
        "id": "5acb96d9"
      },
      "source": [
        "15 - Calcule agora a proporção de filmes por genero e ordene"
      ]
    },
    {
      "cell_type": "code",
      "execution_count": null,
      "id": "934f5164",
      "metadata": {
        "id": "934f5164",
        "outputId": "ff86778c-a179-4291-88cd-414c0b0794a7",
        "colab": {
          "base_uri": "https://localhost:8080/",
          "height": 238
        }
      },
      "outputs": [
        {
          "output_type": "execute_result",
          "data": {
            "text/plain": [
              "                     contagem  prop_por_filme\n",
              "genero                                       \n",
              "Concert/Performance         2        0.355872\n",
              "Black Comedy                3        0.533808\n",
              "Horror                      6        1.067616\n",
              "Western                     7        1.245552\n",
              "Documentary                16        2.846975"
            ],
            "text/html": [
              "\n",
              "  <div id=\"df-eaf669c6-596e-44b7-8cfc-bceef916c6e3\">\n",
              "    <div class=\"colab-df-container\">\n",
              "      <div>\n",
              "<style scoped>\n",
              "    .dataframe tbody tr th:only-of-type {\n",
              "        vertical-align: middle;\n",
              "    }\n",
              "\n",
              "    .dataframe tbody tr th {\n",
              "        vertical-align: top;\n",
              "    }\n",
              "\n",
              "    .dataframe thead th {\n",
              "        text-align: right;\n",
              "    }\n",
              "</style>\n",
              "<table border=\"1\" class=\"dataframe\">\n",
              "  <thead>\n",
              "    <tr style=\"text-align: right;\">\n",
              "      <th></th>\n",
              "      <th>contagem</th>\n",
              "      <th>prop_por_filme</th>\n",
              "    </tr>\n",
              "    <tr>\n",
              "      <th>genero</th>\n",
              "      <th></th>\n",
              "      <th></th>\n",
              "    </tr>\n",
              "  </thead>\n",
              "  <tbody>\n",
              "    <tr>\n",
              "      <th>Concert/Performance</th>\n",
              "      <td>2</td>\n",
              "      <td>0.355872</td>\n",
              "    </tr>\n",
              "    <tr>\n",
              "      <th>Black Comedy</th>\n",
              "      <td>3</td>\n",
              "      <td>0.533808</td>\n",
              "    </tr>\n",
              "    <tr>\n",
              "      <th>Horror</th>\n",
              "      <td>6</td>\n",
              "      <td>1.067616</td>\n",
              "    </tr>\n",
              "    <tr>\n",
              "      <th>Western</th>\n",
              "      <td>7</td>\n",
              "      <td>1.245552</td>\n",
              "    </tr>\n",
              "    <tr>\n",
              "      <th>Documentary</th>\n",
              "      <td>16</td>\n",
              "      <td>2.846975</td>\n",
              "    </tr>\n",
              "  </tbody>\n",
              "</table>\n",
              "</div>\n",
              "      <button class=\"colab-df-convert\" onclick=\"convertToInteractive('df-eaf669c6-596e-44b7-8cfc-bceef916c6e3')\"\n",
              "              title=\"Convert this dataframe to an interactive table.\"\n",
              "              style=\"display:none;\">\n",
              "        \n",
              "  <svg xmlns=\"http://www.w3.org/2000/svg\" height=\"24px\"viewBox=\"0 0 24 24\"\n",
              "       width=\"24px\">\n",
              "    <path d=\"M0 0h24v24H0V0z\" fill=\"none\"/>\n",
              "    <path d=\"M18.56 5.44l.94 2.06.94-2.06 2.06-.94-2.06-.94-.94-2.06-.94 2.06-2.06.94zm-11 1L8.5 8.5l.94-2.06 2.06-.94-2.06-.94L8.5 2.5l-.94 2.06-2.06.94zm10 10l.94 2.06.94-2.06 2.06-.94-2.06-.94-.94-2.06-.94 2.06-2.06.94z\"/><path d=\"M17.41 7.96l-1.37-1.37c-.4-.4-.92-.59-1.43-.59-.52 0-1.04.2-1.43.59L10.3 9.45l-7.72 7.72c-.78.78-.78 2.05 0 2.83L4 21.41c.39.39.9.59 1.41.59.51 0 1.02-.2 1.41-.59l7.78-7.78 2.81-2.81c.8-.78.8-2.07 0-2.86zM5.41 20L4 18.59l7.72-7.72 1.47 1.35L5.41 20z\"/>\n",
              "  </svg>\n",
              "      </button>\n",
              "      \n",
              "  <style>\n",
              "    .colab-df-container {\n",
              "      display:flex;\n",
              "      flex-wrap:wrap;\n",
              "      gap: 12px;\n",
              "    }\n",
              "\n",
              "    .colab-df-convert {\n",
              "      background-color: #E8F0FE;\n",
              "      border: none;\n",
              "      border-radius: 50%;\n",
              "      cursor: pointer;\n",
              "      display: none;\n",
              "      fill: #1967D2;\n",
              "      height: 32px;\n",
              "      padding: 0 0 0 0;\n",
              "      width: 32px;\n",
              "    }\n",
              "\n",
              "    .colab-df-convert:hover {\n",
              "      background-color: #E2EBFA;\n",
              "      box-shadow: 0px 1px 2px rgba(60, 64, 67, 0.3), 0px 1px 3px 1px rgba(60, 64, 67, 0.15);\n",
              "      fill: #174EA6;\n",
              "    }\n",
              "\n",
              "    [theme=dark] .colab-df-convert {\n",
              "      background-color: #3B4455;\n",
              "      fill: #D2E3FC;\n",
              "    }\n",
              "\n",
              "    [theme=dark] .colab-df-convert:hover {\n",
              "      background-color: #434B5C;\n",
              "      box-shadow: 0px 1px 3px 1px rgba(0, 0, 0, 0.15);\n",
              "      filter: drop-shadow(0px 1px 2px rgba(0, 0, 0, 0.3));\n",
              "      fill: #FFFFFF;\n",
              "    }\n",
              "  </style>\n",
              "\n",
              "      <script>\n",
              "        const buttonEl =\n",
              "          document.querySelector('#df-eaf669c6-596e-44b7-8cfc-bceef916c6e3 button.colab-df-convert');\n",
              "        buttonEl.style.display =\n",
              "          google.colab.kernel.accessAllowed ? 'block' : 'none';\n",
              "\n",
              "        async function convertToInteractive(key) {\n",
              "          const element = document.querySelector('#df-eaf669c6-596e-44b7-8cfc-bceef916c6e3');\n",
              "          const dataTable =\n",
              "            await google.colab.kernel.invokeFunction('convertToInteractive',\n",
              "                                                     [key], {});\n",
              "          if (!dataTable) return;\n",
              "\n",
              "          const docLinkHtml = 'Like what you see? Visit the ' +\n",
              "            '<a target=\"_blank\" href=https://colab.research.google.com/notebooks/data_table.ipynb>data table notebook</a>'\n",
              "            + ' to learn more about interactive tables.';\n",
              "          element.innerHTML = '';\n",
              "          dataTable['output_type'] = 'display_data';\n",
              "          await google.colab.output.renderOutput(dataTable, element);\n",
              "          const docLink = document.createElement('div');\n",
              "          docLink.innerHTML = docLinkHtml;\n",
              "          element.appendChild(docLink);\n",
              "        }\n",
              "      </script>\n",
              "    </div>\n",
              "  </div>\n",
              "  "
            ]
          },
          "metadata": {},
          "execution_count": 17
        }
      ],
      "source": [
        "total_filmes = df.contagem.sum()\n",
        "df['prop_por_filme'] = (df['contagem'] / total_filmes) * 100\n",
        "df.head()"
      ]
    },
    {
      "cell_type": "markdown",
      "id": "c0e64ed2",
      "metadata": {
        "id": "c0e64ed2"
      },
      "source": [
        "Estatísticas resumidas agrupadas"
      ]
    },
    {
      "cell_type": "markdown",
      "id": "8ce11db4",
      "metadata": {
        "id": "8ce11db4"
      },
      "source": [
        "16 - Calcule o total da \"bilheteria_bruta\""
      ]
    },
    {
      "cell_type": "code",
      "execution_count": null,
      "id": "55dbb07e",
      "metadata": {
        "id": "55dbb07e",
        "outputId": "6801e760-ffd2-45b5-f7d3-f86d46f9b8d7",
        "colab": {
          "base_uri": "https://localhost:8080/"
        }
      },
      "outputs": [
        {
          "output_type": "stream",
          "name": "stdout",
          "text": [
            "Total bilheteria bruta: 37462335553\n"
          ]
        }
      ],
      "source": [
        "total_bilheteria_bruta = dados.bilheteria_bruta.sum()\n",
        "print(f'Total bilheteria bruta: {total_bilheteria_bruta}')"
      ]
    },
    {
      "cell_type": "markdown",
      "id": "a35facfb",
      "metadata": {
        "id": "a35facfb"
      },
      "source": [
        "17 - Visualize os tipos de generos que tem nesse dataset:"
      ]
    },
    {
      "cell_type": "code",
      "execution_count": null,
      "id": "1a6152ca",
      "metadata": {
        "id": "1a6152ca",
        "outputId": "a0847a48-1d31-4d8b-820f-344b0b8e1afc",
        "colab": {
          "base_uri": "https://localhost:8080/"
        }
      },
      "outputs": [
        {
          "output_type": "stream",
          "name": "stdout",
          "text": [
            "['Musical' 'Adventure' 'Drama' 'Comedy' nan 'Action' 'Horror'\n",
            " 'Romantic Comedy' 'Thriller/Suspense' 'Western' 'Black Comedy'\n",
            " 'Documentary' 'Concert/Performance']\n"
          ]
        }
      ],
      "source": [
        "print(dados.genero.unique())"
      ]
    },
    {
      "cell_type": "markdown",
      "id": "47955f3b",
      "metadata": {
        "id": "47955f3b"
      },
      "source": [
        "18 - Calcule o total da bilheteria_bruta pelo genero 'Drama'"
      ]
    },
    {
      "cell_type": "code",
      "execution_count": null,
      "id": "504703e4",
      "metadata": {
        "id": "504703e4",
        "outputId": "a0243945-f51a-46ce-f0d8-a38ccbc925b9",
        "colab": {
          "base_uri": "https://localhost:8080/"
        }
      },
      "outputs": [
        {
          "output_type": "stream",
          "name": "stdout",
          "text": [
            "4106972970\n"
          ]
        }
      ],
      "source": [
        "total_bilheteria_bruta_drama = dados.bilheteria_bruta[dados.genero == 'Drama'].sum()\n",
        "print(total_bilheteria_bruta_drama)"
      ]
    },
    {
      "cell_type": "markdown",
      "id": "2671365c",
      "metadata": {
        "id": "2671365c"
      },
      "source": [
        "19 - Calcule o total da bilheteria_bruta pelo genero Comedia 'Comedy'"
      ]
    },
    {
      "cell_type": "code",
      "execution_count": null,
      "id": "b06d5fcd",
      "metadata": {
        "id": "b06d5fcd",
        "outputId": "cb62e689-af41-4a65-ebe0-09eb5cde0c16",
        "colab": {
          "base_uri": "https://localhost:8080/"
        }
      },
      "outputs": [
        {
          "output_type": "stream",
          "name": "stdout",
          "text": [
            "8119619678\n"
          ]
        }
      ],
      "source": [
        "total_bilheteria_bruta_comedia = dados.bilheteria_bruta[dados.genero == 'Comedy'].sum()\n",
        "print(total_bilheteria_bruta_comedia)"
      ]
    },
    {
      "cell_type": "markdown",
      "id": "f3073292",
      "metadata": {
        "id": "f3073292"
      },
      "source": [
        "20 - Calcule o total da bilheteria_bruta pelo genero Ação 'Action'"
      ]
    },
    {
      "cell_type": "code",
      "execution_count": null,
      "id": "fc908d7a",
      "metadata": {
        "id": "fc908d7a",
        "outputId": "2d79b832-2cda-4abe-c16a-9890c9d9de6d",
        "colab": {
          "base_uri": "https://localhost:8080/"
        }
      },
      "outputs": [
        {
          "output_type": "stream",
          "name": "stdout",
          "text": [
            "4184563282\n"
          ]
        }
      ],
      "source": [
        "total_bilheteria_bruta_acao = dados.bilheteria_bruta[dados.genero == 'Action'].sum()\n",
        "print(total_bilheteria_bruta_acao)"
      ]
    },
    {
      "cell_type": "markdown",
      "id": "13fd0acf",
      "metadata": {
        "id": "13fd0acf"
      },
      "source": [
        "21 -  Obtenha proporção do bilheteria_bruta para os três generos acima."
      ]
    },
    {
      "cell_type": "code",
      "execution_count": null,
      "id": "408343b4",
      "metadata": {
        "id": "408343b4",
        "outputId": "05bc5de9-1907-423b-b717-1192238db045",
        "colab": {
          "base_uri": "https://localhost:8080/"
        }
      },
      "outputs": [
        {
          "output_type": "stream",
          "name": "stdout",
          "text": [
            "43.80708166681772\n"
          ]
        }
      ],
      "source": [
        "prop_drama_comedy_action = ((total_bilheteria_bruta_drama + total_bilheteria_bruta_comedia + total_bilheteria_bruta_acao) / total_bilheteria_bruta) * 100\n",
        "print(prop_drama_comedy_action)"
      ]
    },
    {
      "cell_type": "markdown",
      "id": "def6832b",
      "metadata": {
        "id": "def6832b"
      },
      "source": [
        "22 - Importe numpy com o alias np"
      ]
    },
    {
      "cell_type": "code",
      "execution_count": null,
      "id": "55f563e8",
      "metadata": {
        "id": "55f563e8"
      },
      "outputs": [],
      "source": [
        "import numpy as np"
      ]
    },
    {
      "cell_type": "markdown",
      "id": "70537d5b",
      "metadata": {
        "id": "70537d5b"
      },
      "source": [
        "23 - Para cada genero de filme, agregue a bilheteria_bruta obtendo min, max, média e mediana e imprima o resultado\n",
        "\n",
        "Dica: use numpy para as estatísticas"
      ]
    },
    {
      "cell_type": "code",
      "execution_count": null,
      "id": "fe3088e8",
      "metadata": {
        "id": "fe3088e8",
        "outputId": "c021f7f7-1f05-4844-c17e-44578efb67ff",
        "colab": {
          "base_uri": "https://localhost:8080/",
          "height": 457
        }
      },
      "outputs": [
        {
          "output_type": "execute_result",
          "data": {
            "text/plain": [
              "                          min        max          mean      median\n",
              "genero                                                            \n",
              "Action                      0  623279547  1.046141e+08  43315244.5\n",
              "Adventure                2815  936662225  1.270471e+08  65000000.0\n",
              "Black Comedy         17105219   52353636  3.251440e+07  28084357.0\n",
              "Comedy                  45779  244082982  4.461329e+07  26923500.5\n",
              "Concert/Performance  38174685   65281781  5.172823e+07  51728233.0\n",
              "Documentary             20521   32011576  1.129285e+07   9688331.0\n",
              "Drama                       0  201151353  3.602608e+07  19730097.0\n",
              "Horror                4877567   26570463  1.451148e+07  13439137.5\n",
              "Musical               5632086  218951625  7.233026e+07  53041787.5\n",
              "Romantic Comedy        468240  178406268  5.009595e+07  32680633.0\n",
              "Thriller/Suspense     2154540  293506292  5.861694e+07  28153827.0\n",
              "Western               8247627   89302115  5.128735e+07  56932305.0"
            ],
            "text/html": [
              "\n",
              "  <div id=\"df-7a3a4f97-132d-444d-abe0-9ee2897da1eb\">\n",
              "    <div class=\"colab-df-container\">\n",
              "      <div>\n",
              "<style scoped>\n",
              "    .dataframe tbody tr th:only-of-type {\n",
              "        vertical-align: middle;\n",
              "    }\n",
              "\n",
              "    .dataframe tbody tr th {\n",
              "        vertical-align: top;\n",
              "    }\n",
              "\n",
              "    .dataframe thead th {\n",
              "        text-align: right;\n",
              "    }\n",
              "</style>\n",
              "<table border=\"1\" class=\"dataframe\">\n",
              "  <thead>\n",
              "    <tr style=\"text-align: right;\">\n",
              "      <th></th>\n",
              "      <th>min</th>\n",
              "      <th>max</th>\n",
              "      <th>mean</th>\n",
              "      <th>median</th>\n",
              "    </tr>\n",
              "    <tr>\n",
              "      <th>genero</th>\n",
              "      <th></th>\n",
              "      <th></th>\n",
              "      <th></th>\n",
              "      <th></th>\n",
              "    </tr>\n",
              "  </thead>\n",
              "  <tbody>\n",
              "    <tr>\n",
              "      <th>Action</th>\n",
              "      <td>0</td>\n",
              "      <td>623279547</td>\n",
              "      <td>1.046141e+08</td>\n",
              "      <td>43315244.5</td>\n",
              "    </tr>\n",
              "    <tr>\n",
              "      <th>Adventure</th>\n",
              "      <td>2815</td>\n",
              "      <td>936662225</td>\n",
              "      <td>1.270471e+08</td>\n",
              "      <td>65000000.0</td>\n",
              "    </tr>\n",
              "    <tr>\n",
              "      <th>Black Comedy</th>\n",
              "      <td>17105219</td>\n",
              "      <td>52353636</td>\n",
              "      <td>3.251440e+07</td>\n",
              "      <td>28084357.0</td>\n",
              "    </tr>\n",
              "    <tr>\n",
              "      <th>Comedy</th>\n",
              "      <td>45779</td>\n",
              "      <td>244082982</td>\n",
              "      <td>4.461329e+07</td>\n",
              "      <td>26923500.5</td>\n",
              "    </tr>\n",
              "    <tr>\n",
              "      <th>Concert/Performance</th>\n",
              "      <td>38174685</td>\n",
              "      <td>65281781</td>\n",
              "      <td>5.172823e+07</td>\n",
              "      <td>51728233.0</td>\n",
              "    </tr>\n",
              "    <tr>\n",
              "      <th>Documentary</th>\n",
              "      <td>20521</td>\n",
              "      <td>32011576</td>\n",
              "      <td>1.129285e+07</td>\n",
              "      <td>9688331.0</td>\n",
              "    </tr>\n",
              "    <tr>\n",
              "      <th>Drama</th>\n",
              "      <td>0</td>\n",
              "      <td>201151353</td>\n",
              "      <td>3.602608e+07</td>\n",
              "      <td>19730097.0</td>\n",
              "    </tr>\n",
              "    <tr>\n",
              "      <th>Horror</th>\n",
              "      <td>4877567</td>\n",
              "      <td>26570463</td>\n",
              "      <td>1.451148e+07</td>\n",
              "      <td>13439137.5</td>\n",
              "    </tr>\n",
              "    <tr>\n",
              "      <th>Musical</th>\n",
              "      <td>5632086</td>\n",
              "      <td>218951625</td>\n",
              "      <td>7.233026e+07</td>\n",
              "      <td>53041787.5</td>\n",
              "    </tr>\n",
              "    <tr>\n",
              "      <th>Romantic Comedy</th>\n",
              "      <td>468240</td>\n",
              "      <td>178406268</td>\n",
              "      <td>5.009595e+07</td>\n",
              "      <td>32680633.0</td>\n",
              "    </tr>\n",
              "    <tr>\n",
              "      <th>Thriller/Suspense</th>\n",
              "      <td>2154540</td>\n",
              "      <td>293506292</td>\n",
              "      <td>5.861694e+07</td>\n",
              "      <td>28153827.0</td>\n",
              "    </tr>\n",
              "    <tr>\n",
              "      <th>Western</th>\n",
              "      <td>8247627</td>\n",
              "      <td>89302115</td>\n",
              "      <td>5.128735e+07</td>\n",
              "      <td>56932305.0</td>\n",
              "    </tr>\n",
              "  </tbody>\n",
              "</table>\n",
              "</div>\n",
              "      <button class=\"colab-df-convert\" onclick=\"convertToInteractive('df-7a3a4f97-132d-444d-abe0-9ee2897da1eb')\"\n",
              "              title=\"Convert this dataframe to an interactive table.\"\n",
              "              style=\"display:none;\">\n",
              "        \n",
              "  <svg xmlns=\"http://www.w3.org/2000/svg\" height=\"24px\"viewBox=\"0 0 24 24\"\n",
              "       width=\"24px\">\n",
              "    <path d=\"M0 0h24v24H0V0z\" fill=\"none\"/>\n",
              "    <path d=\"M18.56 5.44l.94 2.06.94-2.06 2.06-.94-2.06-.94-.94-2.06-.94 2.06-2.06.94zm-11 1L8.5 8.5l.94-2.06 2.06-.94-2.06-.94L8.5 2.5l-.94 2.06-2.06.94zm10 10l.94 2.06.94-2.06 2.06-.94-2.06-.94-.94-2.06-.94 2.06-2.06.94z\"/><path d=\"M17.41 7.96l-1.37-1.37c-.4-.4-.92-.59-1.43-.59-.52 0-1.04.2-1.43.59L10.3 9.45l-7.72 7.72c-.78.78-.78 2.05 0 2.83L4 21.41c.39.39.9.59 1.41.59.51 0 1.02-.2 1.41-.59l7.78-7.78 2.81-2.81c.8-.78.8-2.07 0-2.86zM5.41 20L4 18.59l7.72-7.72 1.47 1.35L5.41 20z\"/>\n",
              "  </svg>\n",
              "      </button>\n",
              "      \n",
              "  <style>\n",
              "    .colab-df-container {\n",
              "      display:flex;\n",
              "      flex-wrap:wrap;\n",
              "      gap: 12px;\n",
              "    }\n",
              "\n",
              "    .colab-df-convert {\n",
              "      background-color: #E8F0FE;\n",
              "      border: none;\n",
              "      border-radius: 50%;\n",
              "      cursor: pointer;\n",
              "      display: none;\n",
              "      fill: #1967D2;\n",
              "      height: 32px;\n",
              "      padding: 0 0 0 0;\n",
              "      width: 32px;\n",
              "    }\n",
              "\n",
              "    .colab-df-convert:hover {\n",
              "      background-color: #E2EBFA;\n",
              "      box-shadow: 0px 1px 2px rgba(60, 64, 67, 0.3), 0px 1px 3px 1px rgba(60, 64, 67, 0.15);\n",
              "      fill: #174EA6;\n",
              "    }\n",
              "\n",
              "    [theme=dark] .colab-df-convert {\n",
              "      background-color: #3B4455;\n",
              "      fill: #D2E3FC;\n",
              "    }\n",
              "\n",
              "    [theme=dark] .colab-df-convert:hover {\n",
              "      background-color: #434B5C;\n",
              "      box-shadow: 0px 1px 3px 1px rgba(0, 0, 0, 0.15);\n",
              "      filter: drop-shadow(0px 1px 2px rgba(0, 0, 0, 0.3));\n",
              "      fill: #FFFFFF;\n",
              "    }\n",
              "  </style>\n",
              "\n",
              "      <script>\n",
              "        const buttonEl =\n",
              "          document.querySelector('#df-7a3a4f97-132d-444d-abe0-9ee2897da1eb button.colab-df-convert');\n",
              "        buttonEl.style.display =\n",
              "          google.colab.kernel.accessAllowed ? 'block' : 'none';\n",
              "\n",
              "        async function convertToInteractive(key) {\n",
              "          const element = document.querySelector('#df-7a3a4f97-132d-444d-abe0-9ee2897da1eb');\n",
              "          const dataTable =\n",
              "            await google.colab.kernel.invokeFunction('convertToInteractive',\n",
              "                                                     [key], {});\n",
              "          if (!dataTable) return;\n",
              "\n",
              "          const docLinkHtml = 'Like what you see? Visit the ' +\n",
              "            '<a target=\"_blank\" href=https://colab.research.google.com/notebooks/data_table.ipynb>data table notebook</a>'\n",
              "            + ' to learn more about interactive tables.';\n",
              "          element.innerHTML = '';\n",
              "          dataTable['output_type'] = 'display_data';\n",
              "          await google.colab.output.renderOutput(dataTable, element);\n",
              "          const docLink = document.createElement('div');\n",
              "          docLink.innerHTML = docLinkHtml;\n",
              "          element.appendChild(docLink);\n",
              "        }\n",
              "      </script>\n",
              "    </div>\n",
              "  </div>\n",
              "  "
            ]
          },
          "metadata": {},
          "execution_count": 25
        }
      ],
      "source": [
        "dados.groupby(by=['genero'])['bilheteria_bruta'].agg([min, max, 'mean', 'median'])"
      ]
    },
    {
      "cell_type": "markdown",
      "id": "3fdc9959",
      "metadata": {
        "id": "3fdc9959"
      },
      "source": [
        "24 - Para cada genero de filme, agregue bilheteria_bruta e bilheteria_ajustada_inflacao: obtenha o minimo, maximo, média e mediana"
      ]
    },
    {
      "cell_type": "code",
      "execution_count": null,
      "id": "1fb8b150",
      "metadata": {
        "id": "1fb8b150",
        "outputId": "d29abe83-056d-4f47-9950-c1aa966c3bed",
        "colab": {
          "base_uri": "https://localhost:8080/",
          "height": 552
        }
      },
      "outputs": [
        {
          "output_type": "execute_result",
          "data": {
            "text/plain": [
              "                    bilheteria_bruta                                       \\\n",
              "                                 min        max          mean      median   \n",
              "genero                                                                      \n",
              "Action                             0  623279547  1.046141e+08  43315244.5   \n",
              "Adventure                       2815  936662225  1.270471e+08  65000000.0   \n",
              "Black Comedy                17105219   52353636  3.251440e+07  28084357.0   \n",
              "Comedy                         45779  244082982  4.461329e+07  26923500.5   \n",
              "Concert/Performance         38174685   65281781  5.172823e+07  51728233.0   \n",
              "Documentary                    20521   32011576  1.129285e+07   9688331.0   \n",
              "Drama                              0  201151353  3.602608e+07  19730097.0   \n",
              "Horror                       4877567   26570463  1.451148e+07  13439137.5   \n",
              "Musical                      5632086  218951625  7.233026e+07  53041787.5   \n",
              "Romantic Comedy               468240  178406268  5.009595e+07  32680633.0   \n",
              "Thriller/Suspense            2154540  293506292  5.861694e+07  28153827.0   \n",
              "Western                      8247627   89302115  5.128735e+07  56932305.0   \n",
              "\n",
              "                    bilheteria_ajustada_inflacao                            \\\n",
              "                                             min         max          mean   \n",
              "genero                                                                       \n",
              "Action                                         0   660081224  1.374734e+08   \n",
              "Adventure                                   2984  2188229052  1.903974e+08   \n",
              "Black Comedy                            28392518    76758193  5.224349e+07   \n",
              "Comedy                                     82277  1362870985  8.466773e+07   \n",
              "Concert/Performance                     38174685    76646993  5.741084e+07   \n",
              "Documentary                                23064    35981010  1.271803e+07   \n",
              "Drama                                          0  1236035515  7.189302e+07   \n",
              "Horror                                   9907922    48546161  2.341385e+07   \n",
              "Musical                                 11468231  5228953251  6.035979e+08   \n",
              "Romantic Comedy                           907414   356389765  7.777708e+07   \n",
              "Thriller/Suspense                        3957025   485424724  8.965379e+07   \n",
              "Western                                 15983331   115781734  7.381571e+07   \n",
              "\n",
              "                                  \n",
              "                          median  \n",
              "genero                            \n",
              "Action                69012064.5  \n",
              "Adventure            102254492.0  \n",
              "Black Comedy          51579764.0  \n",
              "Comedy                51195217.0  \n",
              "Concert/Performance   57410839.0  \n",
              "Documentary           12344483.5  \n",
              "Drama                 39325794.0  \n",
              "Horror                18589709.5  \n",
              "Musical              103167587.5  \n",
              "Romantic Comedy       57925202.0  \n",
              "Thriller/Suspense     51804588.0  \n",
              "Western               89042541.0  "
            ],
            "text/html": [
              "\n",
              "  <div id=\"df-6a5bcf86-9bbf-4781-b65c-6673429f1f68\">\n",
              "    <div class=\"colab-df-container\">\n",
              "      <div>\n",
              "<style scoped>\n",
              "    .dataframe tbody tr th:only-of-type {\n",
              "        vertical-align: middle;\n",
              "    }\n",
              "\n",
              "    .dataframe tbody tr th {\n",
              "        vertical-align: top;\n",
              "    }\n",
              "\n",
              "    .dataframe thead tr th {\n",
              "        text-align: left;\n",
              "    }\n",
              "\n",
              "    .dataframe thead tr:last-of-type th {\n",
              "        text-align: right;\n",
              "    }\n",
              "</style>\n",
              "<table border=\"1\" class=\"dataframe\">\n",
              "  <thead>\n",
              "    <tr>\n",
              "      <th></th>\n",
              "      <th colspan=\"4\" halign=\"left\">bilheteria_bruta</th>\n",
              "      <th colspan=\"4\" halign=\"left\">bilheteria_ajustada_inflacao</th>\n",
              "    </tr>\n",
              "    <tr>\n",
              "      <th></th>\n",
              "      <th>min</th>\n",
              "      <th>max</th>\n",
              "      <th>mean</th>\n",
              "      <th>median</th>\n",
              "      <th>min</th>\n",
              "      <th>max</th>\n",
              "      <th>mean</th>\n",
              "      <th>median</th>\n",
              "    </tr>\n",
              "    <tr>\n",
              "      <th>genero</th>\n",
              "      <th></th>\n",
              "      <th></th>\n",
              "      <th></th>\n",
              "      <th></th>\n",
              "      <th></th>\n",
              "      <th></th>\n",
              "      <th></th>\n",
              "      <th></th>\n",
              "    </tr>\n",
              "  </thead>\n",
              "  <tbody>\n",
              "    <tr>\n",
              "      <th>Action</th>\n",
              "      <td>0</td>\n",
              "      <td>623279547</td>\n",
              "      <td>1.046141e+08</td>\n",
              "      <td>43315244.5</td>\n",
              "      <td>0</td>\n",
              "      <td>660081224</td>\n",
              "      <td>1.374734e+08</td>\n",
              "      <td>69012064.5</td>\n",
              "    </tr>\n",
              "    <tr>\n",
              "      <th>Adventure</th>\n",
              "      <td>2815</td>\n",
              "      <td>936662225</td>\n",
              "      <td>1.270471e+08</td>\n",
              "      <td>65000000.0</td>\n",
              "      <td>2984</td>\n",
              "      <td>2188229052</td>\n",
              "      <td>1.903974e+08</td>\n",
              "      <td>102254492.0</td>\n",
              "    </tr>\n",
              "    <tr>\n",
              "      <th>Black Comedy</th>\n",
              "      <td>17105219</td>\n",
              "      <td>52353636</td>\n",
              "      <td>3.251440e+07</td>\n",
              "      <td>28084357.0</td>\n",
              "      <td>28392518</td>\n",
              "      <td>76758193</td>\n",
              "      <td>5.224349e+07</td>\n",
              "      <td>51579764.0</td>\n",
              "    </tr>\n",
              "    <tr>\n",
              "      <th>Comedy</th>\n",
              "      <td>45779</td>\n",
              "      <td>244082982</td>\n",
              "      <td>4.461329e+07</td>\n",
              "      <td>26923500.5</td>\n",
              "      <td>82277</td>\n",
              "      <td>1362870985</td>\n",
              "      <td>8.466773e+07</td>\n",
              "      <td>51195217.0</td>\n",
              "    </tr>\n",
              "    <tr>\n",
              "      <th>Concert/Performance</th>\n",
              "      <td>38174685</td>\n",
              "      <td>65281781</td>\n",
              "      <td>5.172823e+07</td>\n",
              "      <td>51728233.0</td>\n",
              "      <td>38174685</td>\n",
              "      <td>76646993</td>\n",
              "      <td>5.741084e+07</td>\n",
              "      <td>57410839.0</td>\n",
              "    </tr>\n",
              "    <tr>\n",
              "      <th>Documentary</th>\n",
              "      <td>20521</td>\n",
              "      <td>32011576</td>\n",
              "      <td>1.129285e+07</td>\n",
              "      <td>9688331.0</td>\n",
              "      <td>23064</td>\n",
              "      <td>35981010</td>\n",
              "      <td>1.271803e+07</td>\n",
              "      <td>12344483.5</td>\n",
              "    </tr>\n",
              "    <tr>\n",
              "      <th>Drama</th>\n",
              "      <td>0</td>\n",
              "      <td>201151353</td>\n",
              "      <td>3.602608e+07</td>\n",
              "      <td>19730097.0</td>\n",
              "      <td>0</td>\n",
              "      <td>1236035515</td>\n",
              "      <td>7.189302e+07</td>\n",
              "      <td>39325794.0</td>\n",
              "    </tr>\n",
              "    <tr>\n",
              "      <th>Horror</th>\n",
              "      <td>4877567</td>\n",
              "      <td>26570463</td>\n",
              "      <td>1.451148e+07</td>\n",
              "      <td>13439137.5</td>\n",
              "      <td>9907922</td>\n",
              "      <td>48546161</td>\n",
              "      <td>2.341385e+07</td>\n",
              "      <td>18589709.5</td>\n",
              "    </tr>\n",
              "    <tr>\n",
              "      <th>Musical</th>\n",
              "      <td>5632086</td>\n",
              "      <td>218951625</td>\n",
              "      <td>7.233026e+07</td>\n",
              "      <td>53041787.5</td>\n",
              "      <td>11468231</td>\n",
              "      <td>5228953251</td>\n",
              "      <td>6.035979e+08</td>\n",
              "      <td>103167587.5</td>\n",
              "    </tr>\n",
              "    <tr>\n",
              "      <th>Romantic Comedy</th>\n",
              "      <td>468240</td>\n",
              "      <td>178406268</td>\n",
              "      <td>5.009595e+07</td>\n",
              "      <td>32680633.0</td>\n",
              "      <td>907414</td>\n",
              "      <td>356389765</td>\n",
              "      <td>7.777708e+07</td>\n",
              "      <td>57925202.0</td>\n",
              "    </tr>\n",
              "    <tr>\n",
              "      <th>Thriller/Suspense</th>\n",
              "      <td>2154540</td>\n",
              "      <td>293506292</td>\n",
              "      <td>5.861694e+07</td>\n",
              "      <td>28153827.0</td>\n",
              "      <td>3957025</td>\n",
              "      <td>485424724</td>\n",
              "      <td>8.965379e+07</td>\n",
              "      <td>51804588.0</td>\n",
              "    </tr>\n",
              "    <tr>\n",
              "      <th>Western</th>\n",
              "      <td>8247627</td>\n",
              "      <td>89302115</td>\n",
              "      <td>5.128735e+07</td>\n",
              "      <td>56932305.0</td>\n",
              "      <td>15983331</td>\n",
              "      <td>115781734</td>\n",
              "      <td>7.381571e+07</td>\n",
              "      <td>89042541.0</td>\n",
              "    </tr>\n",
              "  </tbody>\n",
              "</table>\n",
              "</div>\n",
              "      <button class=\"colab-df-convert\" onclick=\"convertToInteractive('df-6a5bcf86-9bbf-4781-b65c-6673429f1f68')\"\n",
              "              title=\"Convert this dataframe to an interactive table.\"\n",
              "              style=\"display:none;\">\n",
              "        \n",
              "  <svg xmlns=\"http://www.w3.org/2000/svg\" height=\"24px\"viewBox=\"0 0 24 24\"\n",
              "       width=\"24px\">\n",
              "    <path d=\"M0 0h24v24H0V0z\" fill=\"none\"/>\n",
              "    <path d=\"M18.56 5.44l.94 2.06.94-2.06 2.06-.94-2.06-.94-.94-2.06-.94 2.06-2.06.94zm-11 1L8.5 8.5l.94-2.06 2.06-.94-2.06-.94L8.5 2.5l-.94 2.06-2.06.94zm10 10l.94 2.06.94-2.06 2.06-.94-2.06-.94-.94-2.06-.94 2.06-2.06.94z\"/><path d=\"M17.41 7.96l-1.37-1.37c-.4-.4-.92-.59-1.43-.59-.52 0-1.04.2-1.43.59L10.3 9.45l-7.72 7.72c-.78.78-.78 2.05 0 2.83L4 21.41c.39.39.9.59 1.41.59.51 0 1.02-.2 1.41-.59l7.78-7.78 2.81-2.81c.8-.78.8-2.07 0-2.86zM5.41 20L4 18.59l7.72-7.72 1.47 1.35L5.41 20z\"/>\n",
              "  </svg>\n",
              "      </button>\n",
              "      \n",
              "  <style>\n",
              "    .colab-df-container {\n",
              "      display:flex;\n",
              "      flex-wrap:wrap;\n",
              "      gap: 12px;\n",
              "    }\n",
              "\n",
              "    .colab-df-convert {\n",
              "      background-color: #E8F0FE;\n",
              "      border: none;\n",
              "      border-radius: 50%;\n",
              "      cursor: pointer;\n",
              "      display: none;\n",
              "      fill: #1967D2;\n",
              "      height: 32px;\n",
              "      padding: 0 0 0 0;\n",
              "      width: 32px;\n",
              "    }\n",
              "\n",
              "    .colab-df-convert:hover {\n",
              "      background-color: #E2EBFA;\n",
              "      box-shadow: 0px 1px 2px rgba(60, 64, 67, 0.3), 0px 1px 3px 1px rgba(60, 64, 67, 0.15);\n",
              "      fill: #174EA6;\n",
              "    }\n",
              "\n",
              "    [theme=dark] .colab-df-convert {\n",
              "      background-color: #3B4455;\n",
              "      fill: #D2E3FC;\n",
              "    }\n",
              "\n",
              "    [theme=dark] .colab-df-convert:hover {\n",
              "      background-color: #434B5C;\n",
              "      box-shadow: 0px 1px 3px 1px rgba(0, 0, 0, 0.15);\n",
              "      filter: drop-shadow(0px 1px 2px rgba(0, 0, 0, 0.3));\n",
              "      fill: #FFFFFF;\n",
              "    }\n",
              "  </style>\n",
              "\n",
              "      <script>\n",
              "        const buttonEl =\n",
              "          document.querySelector('#df-6a5bcf86-9bbf-4781-b65c-6673429f1f68 button.colab-df-convert');\n",
              "        buttonEl.style.display =\n",
              "          google.colab.kernel.accessAllowed ? 'block' : 'none';\n",
              "\n",
              "        async function convertToInteractive(key) {\n",
              "          const element = document.querySelector('#df-6a5bcf86-9bbf-4781-b65c-6673429f1f68');\n",
              "          const dataTable =\n",
              "            await google.colab.kernel.invokeFunction('convertToInteractive',\n",
              "                                                     [key], {});\n",
              "          if (!dataTable) return;\n",
              "\n",
              "          const docLinkHtml = 'Like what you see? Visit the ' +\n",
              "            '<a target=\"_blank\" href=https://colab.research.google.com/notebooks/data_table.ipynb>data table notebook</a>'\n",
              "            + ' to learn more about interactive tables.';\n",
              "          element.innerHTML = '';\n",
              "          dataTable['output_type'] = 'display_data';\n",
              "          await google.colab.output.renderOutput(dataTable, element);\n",
              "          const docLink = document.createElement('div');\n",
              "          docLink.innerHTML = docLinkHtml;\n",
              "          element.appendChild(docLink);\n",
              "        }\n",
              "      </script>\n",
              "    </div>\n",
              "  </div>\n",
              "  "
            ]
          },
          "metadata": {},
          "execution_count": 26
        }
      ],
      "source": [
        "dados.groupby(by=['genero'])[['bilheteria_bruta', 'bilheteria_ajustada_inflacao']].agg([min, max, 'mean', 'median'])\n"
      ]
    },
    {
      "cell_type": "markdown",
      "id": "fbebf915",
      "metadata": {
        "id": "fbebf915"
      },
      "source": [
        "Está na hora de fazermos um pouco de gráficos. Não existe análise de dados sem visualização!!"
      ]
    },
    {
      "cell_type": "code",
      "execution_count": null,
      "id": "e5c18af4",
      "metadata": {
        "id": "e5c18af4"
      },
      "outputs": [],
      "source": []
    },
    {
      "cell_type": "markdown",
      "id": "cc1f85d1",
      "metadata": {
        "id": "cc1f85d1"
      },
      "source": []
    },
    {
      "cell_type": "code",
      "execution_count": null,
      "id": "31d99f5a",
      "metadata": {
        "id": "31d99f5a"
      },
      "outputs": [],
      "source": [
        "import seaborn as sns\n"
      ]
    },
    {
      "cell_type": "markdown",
      "id": "0bdd6de2",
      "metadata": {
        "id": "0bdd6de2"
      },
      "source": [
        "25 - Some a bilheteria_bruta por genero"
      ]
    },
    {
      "cell_type": "code",
      "execution_count": null,
      "id": "49d0c034",
      "metadata": {
        "id": "49d0c034",
        "outputId": "35474f95-02a4-4431-b8b1-968e12ca3ee9",
        "colab": {
          "base_uri": "https://localhost:8080/"
        }
      },
      "outputs": [
        {
          "output_type": "stream",
          "name": "stdout",
          "text": [
            "                             sum\n",
            "genero                          \n",
            "Action                4184563282\n",
            "Adventure            16389069453\n",
            "Black Comedy            97543212\n",
            "Comedy                8119619678\n",
            "Concert/Performance    103456466\n",
            "Documentary            180685619\n",
            "Drama                 4106972970\n",
            "Horror                  87068872\n",
            "Musical               1157284155\n",
            "Romantic Comedy       1152206855\n",
            "Thriller/Suspense     1406806519\n",
            "Western                359011459\n"
          ]
        }
      ],
      "source": [
        "bilheteria_bruta_por_genero = dados.groupby(by=['genero'])['bilheteria_bruta'].agg(['sum'])\n",
        "print(bilheteria_bruta_por_genero)"
      ]
    },
    {
      "cell_type": "markdown",
      "id": "ce14137d",
      "metadata": {
        "id": "ce14137d"
      },
      "source": [
        "26 - Agora sim faça um gráfico de barras com o resultado anterior!"
      ]
    },
    {
      "cell_type": "code",
      "execution_count": null,
      "id": "d07655f7",
      "metadata": {
        "id": "d07655f7",
        "outputId": "0f4dfb6c-c016-4e44-d790-1617877c79f5",
        "colab": {
          "base_uri": "https://localhost:8080/",
          "height": 482
        }
      },
      "outputs": [
        {
          "output_type": "execute_result",
          "data": {
            "text/plain": [
              "<Axes: xlabel='genero', ylabel='sum'>"
            ]
          },
          "metadata": {},
          "execution_count": 34
        },
        {
          "output_type": "display_data",
          "data": {
            "text/plain": [
              "<Figure size 640x480 with 1 Axes>"
            ],
            "image/png": "[encoded data removed]"
          },
          "metadata": {}
        }
      ],
      "source": [
        "sns.barplot(x=bilheteria_bruta_por_genero.index, y=bilheteria_bruta_por_genero['sum'], data=bilheteria_bruta_por_genero)"
      ]
    },
    {
      "cell_type": "markdown",
      "id": "f4db205c",
      "metadata": {
        "id": "f4db205c"
      },
      "source": [
        "27 - Importe o seaborn com o apelido sns "
      ]
    },
    {
      "cell_type": "code",
      "execution_count": null,
      "id": "c9bf4215",
      "metadata": {
        "id": "c9bf4215"
      },
      "outputs": [],
      "source": [
        "import seaborn as sns\n",
        "sns.set()"
      ]
    },
    {
      "cell_type": "markdown",
      "id": "2bda7f9f",
      "metadata": {
        "id": "2bda7f9f"
      },
      "source": [
        "28 -Faça um boxplot comparando a bilheteria_ajustada_inflacao dos filmes de ação e comédia\n"
      ]
    },
    {
      "cell_type": "code",
      "execution_count": null,
      "id": "05cb1c96",
      "metadata": {
        "id": "05cb1c96",
        "outputId": "a7854f73-2e34-499e-dbec-3b598b4604df",
        "colab": {
          "base_uri": "https://localhost:8080/"
        }
      },
      "outputs": [
        {
          "output_type": "stream",
          "name": "stdout",
          "text": [
            "     genero  bilheteria_ajustada_inflacao\n",
            "8    Comedy                    1362870985\n",
            "9    Comedy                     310094574\n",
            "11   Comedy                     109581646\n",
            "14   Comedy                     138612686\n",
            "16   Comedy                     101200742\n",
            "..      ...                           ...\n",
            "544  Action                     268013076\n",
            "551  Comedy                      69055550\n",
            "558  Action                     459005868\n",
            "561  Action                     180202163\n",
            "569  Action                     408084349\n",
            "\n",
            "[222 rows x 2 columns]\n"
          ]
        }
      ],
      "source": [
        "filmes_acao_comedia = dados[(dados['genero'] == 'Action') | (dados['genero'] == 'Comedy')][['genero', 'bilheteria_ajustada_inflacao']]\n",
        "print(filmes_acao_comedia)"
      ]
    },
    {
      "cell_type": "code",
      "execution_count": null,
      "id": "61e1f626",
      "metadata": {
        "id": "61e1f626",
        "outputId": "5adcf516-68c4-40ce-a671-92118c973f28",
        "colab": {
          "base_uri": "https://localhost:8080/",
          "height": 475
        }
      },
      "outputs": [
        {
          "output_type": "execute_result",
          "data": {
            "text/plain": [
              "<Axes: xlabel='bilheteria_ajustada_inflacao', ylabel='genero'>"
            ]
          },
          "metadata": {},
          "execution_count": 37
        },
        {
          "output_type": "display_data",
          "data": {
            "text/plain": [
              "<Figure size 640x480 with 1 Axes>"
            ],
            "image/png": "[encoded data removed]"
          },
          "metadata": {}
        }
      ],
      "source": [
        "sns.boxplot(x=filmes_acao_comedia['bilheteria_ajustada_inflacao'], y=filmes_acao_comedia['genero'], data=filmes_acao_comedia)"
      ]
    },
    {
      "cell_type": "code",
      "execution_count": null,
      "id": "c420ae3d",
      "metadata": {
        "id": "c420ae3d"
      },
      "outputs": [],
      "source": []
    }
  ],
  "metadata": {
    "hide_input": false,
    "kernelspec": {
      "display_name": "Python 3",
      "language": "python",
      "name": "python3"
    },
    "language_info": {
      "codemirror_mode": {
        "name": "ipython",
        "version": 3
      },
      "file_extension": ".py",
      "mimetype": "text/x-python",
      "name": "python",
      "nbconvert_exporter": "python",
      "pygments_lexer": "ipython3",
      "version": "3.8.8"
    },
    "colab": {
      "provenance": [],
      "include_colab_link": true
    }
  },
  "nbformat": 4,
  "nbformat_minor": 5
}